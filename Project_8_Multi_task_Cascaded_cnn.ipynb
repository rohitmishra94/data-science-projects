{
  "nbformat": 4,
  "nbformat_minor": 0,
  "metadata": {
    "colab": {
      "name": "Joint Face Detection and Alignment using Multi-task Cascaded cnn.ipynb",
      "provenance": [],
      "collapsed_sections": []
    },
    "kernelspec": {
      "name": "python3",
      "display_name": "Python 3"
    }
  },
  "cells": [
    {
      "cell_type": "code",
      "metadata": {
        "id": "dpXJf87_t9pG",
        "colab_type": "code",
        "colab": {}
      },
      "source": [
        "# To install Multi task Cascaded Model\n",
        "pip install mtcnn"
      ],
      "execution_count": null,
      "outputs": []
    },
    {
      "cell_type": "code",
      "metadata": {
        "id": "hcADDyg6BgkZ",
        "colab_type": "code",
        "colab": {}
      },
      "source": [
        "# Necessary libraries\n",
        "from matplotlib import pyplot\n",
        "from matplotlib.patches import Rectangle\n",
        "from matplotlib.patches import Circle\n",
        "from mtcnn.mtcnn import MTCNN\n",
        " "
      ],
      "execution_count": 26,
      "outputs": []
    },
    {
      "cell_type": "code",
      "metadata": {
        "id": "LT8k1fCzFJM1",
        "colab_type": "code",
        "colab": {}
      },
      "source": [
        "# draw an image with detected objects\n",
        "def draw_image_with_boxes(filename, result_list):\n",
        "\t# load the image\n",
        "\tdata = pyplot.imread(filename)\n",
        "\t# plot the image\n",
        "\tpyplot.imshow(data)\n",
        "\t# get the context for drawing boxes\n",
        "\tax = pyplot.gca()\n",
        "\t# plot each box\n",
        "\tfor result in result_list:\n",
        "\t\t# get coordinates\n",
        "\t\tx, y, width, height = result['box']\n",
        "\t\t# create the shape\n",
        "\t\trect = Rectangle((x, y), width, height, fill=False, color='red')\n",
        "\t\t# draw the box\n",
        "\t\tax.add_patch(rect)\n",
        "\t# show the plot\n",
        "\tpyplot.show()\n",
        "filename = '/content/faces-1.jpg'\n",
        "# load image from file\n",
        "pixels = pyplot.imread(filename)\n",
        "# create the detector, using default weights\n",
        "detector = MTCNN()\n",
        "# detect faces in the image\n",
        "faces = detector.detect_faces(pixels)\n",
        "# display faces on the original image\n",
        "draw_image_with_boxes(filename, faces)\n"
      ],
      "execution_count": null,
      "outputs": []
    },
    {
      "cell_type": "code",
      "metadata": {
        "id": "OlMDp9J_FeZ3",
        "colab_type": "code",
        "colab": {}
      },
      "source": [
        "# draw an image with detected objects\n",
        "def draw_image_with_boxes(filename, result_list):\n",
        "\t# load the image\n",
        "\tdata = pyplot.imread(filename)\n",
        "\t# plot the image\n",
        "\tpyplot.imshow(data)\n",
        "\t# get the context for drawing boxes\n",
        "\tax = pyplot.gca()\n",
        "\t# plot each box\n",
        "\tfor result in result_list:\n",
        "\t\t# get coordinates\n",
        "\t\tx, y, width, height = result['box']\n",
        "\t\t# create the shape\n",
        "\t\trect = Rectangle((x, y), width, height, fill=False, color='red')\n",
        "\t\t# draw the box\n",
        "\t\tax.add_patch(rect)\n",
        "\t\t# draw the dots\n",
        "\t\tfor key, value in result['keypoints'].items():\n",
        "\t\t\t# create and draw dot\n",
        "\t\t\tdot = Circle(value, radius=2, color='red')\n",
        "\t\t\tax.add_patch(dot)\n",
        "\t# show the plot\n",
        "\tpyplot.show()\n",
        "filename = '/content/faces-1.jpg'\n",
        "# load image from file\n",
        "pixels = pyplot.imread(filename)\n",
        "# create the detector, using default weights\n",
        "detector = MTCNN()\n",
        "# detect faces in the image\n",
        "faces = detector.detect_faces(pixels)\n",
        "# display faces on the original image\n",
        "draw_image_with_boxes(filename, faces)"
      ],
      "execution_count": null,
      "outputs": []
    },
    {
      "cell_type": "code",
      "metadata": {
        "id": "3-OrJoB_yX3N",
        "colab_type": "code",
        "colab": {}
      },
      "source": [
        "# draw each face separately\n",
        "def draw_faces(filename, result_list):\n",
        "  pyplot.figure(figsize=(80,20))\n",
        "\t# load the image\n",
        "  data = pyplot.imread(filename)\n",
        "\t# plot each face as a subplot\n",
        "  for i in range(48):\n",
        "\t\t# get coordinates\n",
        "    x1, y1, width, height = result_list[i]['box']\n",
        "    if y1<0:\n",
        "      y1=0\n",
        "    else:\n",
        "      pass\n",
        "    x2, y2 = x1 + width, y1 + height\n",
        "\t\t# define subplot\n",
        "    pyplot.subplot(1, len(result_list), i+1)\n",
        "    pyplot.axis('off')\n",
        "\t\t# plot face\n",
        "    pyplot.imshow(data[y1:y2, x1:x2,:])\n",
        "\t# show the plot\n",
        "  pyplot.show()\n",
        " \n",
        "filename = '/content/faces-1.jpg'\n",
        "# load image from file\n",
        "pixels = pyplot.imread(filename)\n",
        "# create the detector, using default weights\n",
        "detector = MTCNN()\n",
        "# detect faces in the image\n",
        "faces = detector.detect_faces(pixels)\n",
        "# display faces on the original image\n",
        "draw_faces(filename, faces)"
      ],
      "execution_count": null,
      "outputs": []
    }
  ]
}